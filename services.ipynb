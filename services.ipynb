{
 "cells": [
  {
   "cell_type": "code",
   "execution_count": null,
   "metadata": {
    "vscode": {
     "languageId": "sql"
    }
   },
   "outputs": [],
   "source": [
    "create schema services"
   ]
  },
  {
   "cell_type": "code",
   "execution_count": null,
   "metadata": {
    "vscode": {
     "languageId": "sql"
    }
   },
   "outputs": [],
   "source": [
    "Create table services.positions (\n",
    "    position_id serial primary key,\n",
    "    title char(30) not null,\n",
    "    salary int not null\n",
    ")"
   ]
  },
  {
   "cell_type": "code",
   "execution_count": null,
   "metadata": {
    "vscode": {
     "languageId": "sql"
    }
   },
   "outputs": [],
   "source": [
    "INSERT INTO services.positions (title, salary)\n",
    "    VALUES ('prorap', 1000),\n",
    "           ('usta 1', 650),\n",
    "           ('usta 2', 650),\n",
    "           ('usta 3', 650),\n",
    "           ('yordamchi 1', 450),\n",
    "           ('yordamchi 2', 450),\n",
    "           ('yordamchi 3', 450),\n",
    "           ('qorovul 1', 800),\n",
    "           ('qorovul 2', 800),\n",
    "           ('qorovul 3', 800),\n",
    "           ('haydovchi 1', 500),\n",
    "           ('haydovchi 2', 500),\n",
    "           ('haydovchi 3', 500);"
   ]
  },
  {
   "cell_type": "code",
   "execution_count": null,
   "metadata": {
    "vscode": {
     "languageId": "sql"
    }
   },
   "outputs": [],
   "source": [
    "Create table services.units (\n",
    "    unit_id serial primary key,\n",
    "    title char(30) not null\n",
    ")"
   ]
  },
  {
   "cell_type": "code",
   "execution_count": null,
   "metadata": {
    "vscode": {
     "languageId": "sql"
    }
   },
   "outputs": [],
   "source": [
    "INSERT INTO services.units (title)\n",
    "    VALUES ('m2 (metr kvadrat)'),\n",
    "           ('m3 (metr kub)');"
   ]
  },
  {
   "cell_type": "code",
   "execution_count": null,
   "metadata": {
    "vscode": {
     "languageId": "sql"
    }
   },
   "outputs": [],
   "source": [
    "Create table services.services (\n",
    "    service_id serial primary key,\n",
    "    name char(30) not null,\n",
    "    duration float not null,\n",
    "    unit int not null,\n",
    "    unit_id int references services.units(unit_id) not null,\n",
    "    price float\n",
    ")"
   ]
  },
  {
   "cell_type": "code",
   "execution_count": null,
   "metadata": {
    "vscode": {
     "languageId": "sql"
    }
   },
   "outputs": [],
   "source": [
    "INSERT INTO services.services (name, duration, unit, unit_id, price)\n",
    "VALUES ('uy qurish', 20, 50, 1, 0),\n",
    "       ('yer qazish', 2, 12, 2, 0);"
   ]
  },
  {
   "cell_type": "code",
   "execution_count": null,
   "metadata": {
    "vscode": {
     "languageId": "sql"
    }
   },
   "outputs": [],
   "source": [
    "Create table services.teams (\n",
    "    team_id serial primary key,\n",
    "    service_id int references services.services(service_id) not null,\n",
    "    position_id int references services.positions(position_id) not null\n",
    ")"
   ]
  },
  {
   "cell_type": "code",
   "execution_count": null,
   "metadata": {
    "vscode": {
     "languageId": "sql"
    }
   },
   "outputs": [],
   "source": [
    "INSERT INTO services.teams (service_id, position_id)\n",
    "    VALUES (1, 1),\n",
    "           (1, 2),\n",
    "           (1, 3),\n",
    "           (1, 4),\n",
    "           (2, 5),\n",
    "           (2, 6),\n",
    "           (2, 7),\n",
    "           (2, 8);"
   ]
  },
  {
   "cell_type": "markdown",
   "metadata": {},
   "source": [
    "Triggers"
   ]
  },
  {
   "cell_type": "code",
   "execution_count": null,
   "metadata": {
    "vscode": {
     "languageId": "sql"
    }
   },
   "outputs": [],
   "source": [
    "Create or Replace function services.after_inserting()\n",
    "    returns TRIGGER\n",
    "    LANGUAGE plpgsql\n",
    "    AS\n",
    "    $$\n",
    "BEGIN\n",
    "    Update services.services set price = (\n",
    "        Select sum(salary) from services.positions\n",
    "            where position_id in (\n",
    "                select position_id from services.teams\n",
    "                    WHERE service_id=new.service_id))\n",
    "                        where service_id=new.service_id;\n",
    "    RETURN new;\n",
    "END;\n",
    "$$;"
   ]
  },
  {
   "cell_type": "code",
   "execution_count": null,
   "metadata": {
    "vscode": {
     "languageId": "sql"
    }
   },
   "outputs": [],
   "source": [
    "CREATE or Replace TRIGGER new_team_member\n",
    "    After Insert\n",
    "    ON services.teams\n",
    "    FOR EACH ROW\n",
    "    EXECUTE PROCEDURE services.after_inserting();"
   ]
  },
  {
   "cell_type": "code",
   "execution_count": null,
   "metadata": {
    "vscode": {
     "languageId": "sql"
    }
   },
   "outputs": [],
   "source": [
    "Create or Replace function services.before_deleting()\n",
    "    returns TRIGGER\n",
    "    LANGUAGE plpgsql\n",
    "    AS\n",
    "    $$\n",
    "BEGIN\n",
    "    Update services.services set price = price - (\n",
    "        Select salary from services.positions\n",
    "            where position_id = OLD.position_id)\n",
    "        where service_id=OLD.service_id;\n",
    "\n",
    "    RETURN OLD;\n",
    "END\n",
    "$$;"
   ]
  },
  {
   "cell_type": "code",
   "execution_count": null,
   "metadata": {
    "vscode": {
     "languageId": "sql"
    }
   },
   "outputs": [],
   "source": [
    "CREATE or Replace TRIGGER remove_team_member\n",
    "    Before Delete\n",
    "    ON services.teams\n",
    "    FOR EACH ROW\n",
    "    EXECUTE PROCEDURE services.before_deleting();"
   ]
  },
  {
   "cell_type": "code",
   "execution_count": null,
   "metadata": {
    "vscode": {
     "languageId": "sql"
    }
   },
   "outputs": [],
   "source": [
    "Create or Replace function before_updating()\n",
    "returns TRIGGER\n",
    "LANGUAGE plpgsql\n",
    "AS\n",
    "$$\n",
    "BEGIN\n",
    "    IF NEW.salary <> OLD.salary THEN\n",
    "        if NEW.salary > OLD.salary THEN\n",
    "            Update services.services set price = price + (new.salary - old.salary)\n",
    "                where position_id in (\n",
    "                    select position_id from services.teams\n",
    "                        WHERE service_id=new.service_id);\n",
    "        else\n",
    "            Update services.services set price = price - (old.salary - new.salary)\n",
    "                where position_id in (\n",
    "                    select position_id from services.teams\n",
    "                        WHERE service_id=new.service_id);\n",
    "        END IF;\n",
    "    END IF;\n",
    "\n",
    "    RETURN NEW;\n",
    "END\n",
    "$$;"
   ]
  },
  {
   "cell_type": "code",
   "execution_count": null,
   "metadata": {
    "vscode": {
     "languageId": "sql"
    }
   },
   "outputs": [],
   "source": [
    "CREATE or Replace TRIGGER before_updating\n",
    "    BEFORE UPDATE\n",
    "    ON services.positions\n",
    "    FOR EACH ROW\n",
    "    EXECUTE PROCEDURE before_updating();"
   ]
  },
  {
   "cell_type": "code",
   "execution_count": null,
   "metadata": {
    "vscode": {
     "languageId": "sql"
    }
   },
   "outputs": [],
   "source": [
    "select price, array_to_json(array_agg(salary)) from services.positions\n",
    "inner join services.teams using(position_id)\n",
    "inner join services.services using(service_id)\n",
    "group by price"
   ]
  },
  {
   "cell_type": "code",
   "execution_count": null,
   "metadata": {
    "vscode": {
     "languageId": "sql"
    }
   },
   "outputs": [],
   "source": [
    "select price, salary from services.positions\n",
    "inner join services.teams using(position_id)\n",
    "inner join services.services using(service_id)"
   ]
  },
  {
   "cell_type": "code",
   "execution_count": null,
   "metadata": {
    "vscode": {
     "languageId": "sql"
    }
   },
   "outputs": [],
   "source": [
    "salary ni insert qilganda\n",
    "    price + old.salary\n",
    "salary -> update\n",
    "    if NEW.salary <> OLD.salary\n",
    "        if NEW.salary > OLD.salary\n",
    "            price + (new.salary - old.salary)\n",
    "        else:\n",
    "            price - (old.salary - new.salary)\n",
    "salary -> delete\n",
    "    price - old.salary"
   ]
  },
  {
   "cell_type": "code",
   "execution_count": null,
   "metadata": {
    "vscode": {
     "languageId": "sql"
    }
   },
   "outputs": [],
   "source": [
    "delete from services.teams where position_id = 5"
   ]
  },
  {
   "cell_type": "code",
   "execution_count": null,
   "metadata": {
    "vscode": {
     "languageId": "sql"
    }
   },
   "outputs": [],
   "source": [
    "update services.positions set salary = 2000 where position_id = 1"
   ]
  }
 ],
 "metadata": {
  "language_info": {
   "name": "python"
  },
  "orig_nbformat": 4
 },
 "nbformat": 4,
 "nbformat_minor": 2
}
